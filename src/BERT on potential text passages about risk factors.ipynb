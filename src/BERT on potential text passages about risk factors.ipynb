{
 "cells": [
  {
   "cell_type": "markdown",
   "metadata": {},
   "source": [
    "## Via pattern matching over BERT to a summary on risk factors of COVID-19\n",
    "\n",
    "### The offical proposed question which I want to find answers with this notebook is \"What do we know about COVID-19 risk factors?\"\n",
    "\n",
    "This notebook contains a pattern matching approach applied to the stated question above."
   ]
  },
  {
   "cell_type": "code",
   "execution_count": 1,
   "metadata": {
    "pycharm": {
     "is_executing": false
    }
   },
   "outputs": [
    {
     "name": "stderr",
     "output_type": "stream",
     "text": [
      "[nltk_data] Downloading package punkt to /home/nic/nltk_data...\n",
      "[nltk_data]   Package punkt is already up-to-date!\n",
      "[nltk_data] Downloading package stopwords to /home/nic/nltk_data...\n",
      "[nltk_data]   Package stopwords is already up-to-date!\n",
      "unable to import 'smart_open.gcs', disabling that module\n"
     ]
    }
   ],
   "source": [
    "import numpy as np\n",
    "import pandas as pd\n",
    "import glob\n",
    "import os\n",
    "import json\n",
    "import string\n",
    "from collections import Counter\n",
    "import nltk\n",
    "nltk.download('punkt')\n",
    "nltk.download('stopwords')\n",
    "from nltk.corpus import stopwords as nltkstopwords\n",
    "from nltk.tokenize import word_tokenize\n",
    "import re\n",
    "from gensim.parsing.preprocessing import preprocess_string, strip_tags, strip_punctuation, strip_numeric, remove_stopwords, strip_multiple_whitespaces\n",
    "import matplotlib.pyplot as plt\n",
    "import torch\n",
    "from transformers import BertTokenizer, AutoTokenizer, BertForQuestionAnswering, AutoModelForQuestionAnswering"
   ]
  },
  {
   "cell_type": "markdown",
   "metadata": {},
   "source": [
    "Setting up all the paths"
   ]
  },
  {
   "cell_type": "code",
   "execution_count": 2,
   "metadata": {
    "pycharm": {
     "is_executing": false,
     "name": "#%%\n"
    }
   },
   "outputs": [],
   "source": [
    "base_path = \"../input/CORD-19-research-challenge\"\n",
    "\n",
    "biorxiv_medrxiv = \"biorxiv_medrxiv/biorxiv_medrxiv/pdf_json\"\n",
    "comm_use_subset = \"comm_use_subset/comm_use_subset/pdf_json\"\n",
    "noncomm_use_subset = \"noncomm_use_subset/noncomm_use_subset/pdf_json\"\n",
    "custom_license = \"custom_license/custom_license/pdf_json\""
   ]
  },
  {
   "cell_type": "code",
   "execution_count": 3,
   "metadata": {},
   "outputs": [],
   "source": [
    "covid_kaggle_questions = {\n",
    "\"data\":[\n",
    "          {\n",
    "              \"task\": \"What do we know about COVID-19 risk factors?\",\n",
    "              \"questions\": [\n",
    "                  \"risk factors covid 19\",\n",
    "                  \"risk factors corona\",\n",
    "                  \"What risk factors contribute to the severity of 2019-nCoV?\",\n",
    "                  #\"How does hypertension affect patients?\",\n",
    "                  #\"How does heart disease affect patients?\",\n",
    "                  #\"How does copd affect patients?\",\n",
    "                  #\"How does smoking affect patients?\",\n",
    "                  #\"How does pregnancy affect patients?\",\n",
    "                  #\"What is the fatality rate of 2019-nCoV?\",\n",
    "                  #\"What public health policies prevent or control the spread of 2019-nCoV?\"\n",
    "              ]\n",
    "          }\n",
    "   ]\n",
    "}"
   ]
  },
  {
   "cell_type": "code",
   "execution_count": 4,
   "metadata": {},
   "outputs": [],
   "source": [
    "class Document:\n",
    "    \n",
    "    def __init__(self, title, file_path, body_text, abstract):\n",
    "        self.title = title\n",
    "        self.file_path = file_path\n",
    "        self.body_text = body_text\n",
    "        self.abstract = abstract"
   ]
  },
  {
   "cell_type": "code",
   "execution_count": 5,
   "metadata": {
    "pycharm": {
     "is_executing": false,
     "name": "#%%\n"
    }
   },
   "outputs": [
    {
     "name": "stdout",
     "output_type": "stream",
     "text": [
      "Number of biorxiv_medrxiv documents: 1342\n",
      "Total number of documents: 1342\n",
      "CPU times: user 1.99 s, sys: 87.4 ms, total: 2.08 s\n",
      "Wall time: 2.43 s\n"
     ]
    }
   ],
   "source": [
    "%%time\n",
    "files = []\n",
    "file_names = []\n",
    "documents = []\n",
    "def read_files(directory):\n",
    "    files_in_dir = [f for f in glob.glob(os.path.join(base_path, directory) + \"/*.json\", recursive=True)]\n",
    "    files.extend(files_in_dir)\n",
    "    for file_path in files_in_dir:\n",
    "        data = json.load(open(file_path))\n",
    "        body_text = \"\"\n",
    "        for i in range(len(data[\"body_text\"])):\n",
    "            body_text += \" \" + data[\"body_text\"][i][\"text\"]\n",
    "        \n",
    "        body_text = re.sub(' +', ' ', body_text)\n",
    "        abstract_text = \"\"\n",
    "        for i in range(len(data[\"abstract\"])):\n",
    "            abstract_text += \" \" + data[\"abstract\"][i][\"text\"]\n",
    "        title = data[\"metadata\"][\"title\"]\n",
    "        documents.append(Document(title, file_path, body_text, abstract_text))\n",
    "    return len(files_in_dir)\n",
    "\n",
    "print(\"Number of biorxiv_medrxiv documents: {}\".format(read_files(biorxiv_medrxiv)))\n",
    "#print(\"Number of comm_use_subset documents: {}\".format(read_files(comm_use_subset)))\n",
    "#print(\"Number of noncomm_use_subset documents: {}\".format(read_files(noncomm_use_subset)))\n",
    "#print(\"Number of custom license documents: {}\".format(read_files(custom_license)))\n",
    "print(\"Total number of documents: {}\".format(len(documents)))"
   ]
  },
  {
   "cell_type": "code",
   "execution_count": 6,
   "metadata": {},
   "outputs": [
    {
     "name": "stdout",
     "output_type": "stream",
     "text": [
      "Found 1 duplicates\n"
     ]
    }
   ],
   "source": [
    "# filter duplicates\n",
    "\n",
    "counter = 0\n",
    "\n",
    "abstract_lengths = {}\n",
    "text_lengths = {}\n",
    "duplicates = []\n",
    "for i in range(len(documents)):\n",
    "    text_a = documents[i].body_text\n",
    "    for j in range(i+1, len(documents)):\n",
    "        text_b = documents[j].body_text\n",
    "        if text_a == text_b:\n",
    "            duplicates.append(j)\n",
    "print(\"Found {} duplicates\".format(len(duplicates)))"
   ]
  },
  {
   "cell_type": "code",
   "execution_count": 7,
   "metadata": {},
   "outputs": [],
   "source": [
    "filtered_documents = [doc for idx, doc in enumerate(documents) if idx not in duplicates]"
   ]
  },
  {
   "cell_type": "markdown",
   "metadata": {},
   "source": [
    "### Search papers by regex patterns\n",
    "\n",
    "Let us define some regex patterns to find text passages where risk factors might be mentioned.\n",
    "To do so we are looking for phrases/words which might appear in such a context."
   ]
  },
  {
   "cell_type": "code",
   "execution_count": 8,
   "metadata": {},
   "outputs": [],
   "source": [
    "# set up some constants\n",
    "NUMBER_OF_FILES = len(filtered_documents)\n",
    "\n",
    "#set up patterns, which might appear in the context of high risk factors\n",
    "factor___risk_pattern = r\"(factor(.){0,9}risk)\" # for example for \"factors of risk\"\n",
    "risk_factor_pattern = r\"(risk(.){0,4}factor)\" # for example for \"risk factors\"\n",
    "high_risk_pattern = r\"(high(.){0,6}risk)\" # for example for \"high risk\" or \"highly risky\"\n",
    "averse_outcomes_pattern = r\"(advers(.){0,4}outcome)\"\n",
    "#risk_pattern = r\"(risk)\"\n",
    "#comorbdit_pattern = r\"(comorbdit)\"\n",
    "#co_infects_pattern = r\"(co(.){0,4}infect)\"\n",
    "#neonat_pattern = r\"(neonat)\"\n",
    "#pregnant_pattern = r\"(pregnant)\"\n",
    "#smoking_pattern = r\"(smoking)\"\n",
    "#cancer_pattern = r\"(cancer)\"\n",
    "\n",
    "PATTERNS = [\n",
    "    factor___risk_pattern,\n",
    "    risk_factor_pattern,\n",
    "    high_risk_pattern,\n",
    "    averse_outcomes_pattern\n",
    "]\n",
    "POTENTIAL_RISKS = [\n",
    "    \"smoking\",\n",
    "    \"pulmonary diseas\", \n",
    "    \"elder\",\n",
    "    \"diabetes\",\n",
    "    \"old\",\n",
    "    \"age\",\n",
    "    \"cancer\", \n",
    "    \"cardiac\",\n",
    "    \"cardio\"]\n",
    "\n",
    "CUSTOM_FILTERS = [lambda x: x.lower(), strip_tags, strip_punctuation]\n",
    "CUSTOM_FILTERS_EXCLUDE_NUMERIC = [lambda x: x.lower(), strip_tags, strip_punctuation, strip_numeric]"
   ]
  },
  {
   "cell_type": "code",
   "execution_count": null,
   "metadata": {},
   "outputs": [],
   "source": []
  },
  {
   "cell_type": "markdown",
   "metadata": {},
   "source": [
    "Now we are going through the texts and search for the patterns defined above.\n",
    "We are going to append start and end indices of each matche to a list."
   ]
  },
  {
   "cell_type": "code",
   "execution_count": 9,
   "metadata": {
    "pycharm": {
     "is_executing": false,
     "name": "#%%\n"
    }
   },
   "outputs": [
    {
     "name": "stdout",
     "output_type": "stream",
     "text": [
      "Found 244 candidate text extracts\n",
      "CPU times: user 95.5 ms, sys: 84 µs, total: 95.6 ms\n",
      "Wall time: 95.2 ms\n"
     ]
    }
   ],
   "source": [
    "%%time\n",
    "def extract_windows_containing(docs, pattern, print_out=True):\n",
    "    indices = []\n",
    "    for idx in range(NUMBER_OF_FILES):\n",
    "        body_text = docs[idx].body_text\n",
    "        \n",
    "        indices_of_file = [(m.start(0), m.end(0)) for m in re.finditer(pattern, body_text)]\n",
    "        indices.append(indices_of_file)\n",
    "    \n",
    "    return indices\n",
    "\n",
    "indices = [[] for _ in range(NUMBER_OF_FILES)]\n",
    "for pattern in PATTERNS:\n",
    "    indices_ = extract_windows_containing(filtered_documents, pattern)\n",
    "    for i in range(len(indices_)):\n",
    "        indices[i].extend(indices_[i])\n",
    "\n",
    "print(\"Found {} candidate text extracts\".format(len([1 for a in indices if len(a)!=0])))"
   ]
  },
  {
   "cell_type": "code",
   "execution_count": 23,
   "metadata": {},
   "outputs": [
    {
     "data": {
      "text/plain": [
       "(1341, 1341)"
      ]
     },
     "execution_count": 23,
     "metadata": {},
     "output_type": "execute_result"
    }
   ],
   "source": [
    "len(filtered_documents), len(indices)"
   ]
  },
  {
   "cell_type": "markdown",
   "metadata": {},
   "source": [
    "Till now only have the indices of where the patterns matched.\n",
    "Now we go through them and get a text window around them, we just choose a window of 500 characters (WINDOW_SIZE), which means that we extract at most 250 characters before and after the match.\n",
    "\n",
    "While iterating through all matches we also remove special characters like punctuation and numeric values."
   ]
  },
  {
   "cell_type": "code",
   "execution_count": 10,
   "metadata": {
    "pycharm": {
     "is_executing": false,
     "name": "#%%\n"
    }
   },
   "outputs": [
    {
     "name": "stdout",
     "output_type": "stream",
     "text": [
      "Length of longest context: 507\n",
      "Number of potential_contexts: 682\n",
      "CPU times: user 262 ms, sys: 3.13 ms, total: 265 ms\n",
      "Wall time: 265 ms\n"
     ]
    }
   ],
   "source": [
    "%%time\n",
    "\n",
    "WINDOW_SIZE = 500\n",
    "def process_indices_for_file(file_number, indices_of_file, filters, docs):\n",
    "    contexts = []\n",
    "    for match in indices_of_file:\n",
    "        start = match[0]-int(WINDOW_SIZE/2)\n",
    "        end = match[1]+int(WINDOW_SIZE/2)\n",
    "        context = docs[file_number].body_text[start:end]\n",
    "        contexts.append(context)\n",
    "\n",
    "    return contexts\n",
    "\n",
    "def remove_special_character(text):\n",
    "    return text.translate(str.maketrans('', '', string.punctuation))\n",
    "\n",
    "def tokenize(text):\n",
    "    words = nltk.word_tokenize(text)\n",
    "    return [str(word).lower() for word in words if len(word) > 1 and not word.isnumeric()]\n",
    "\n",
    "potential_contexts = []\n",
    "length_of_longest_context = 0\n",
    "for file_number, indices_of_file in enumerate(indices):\n",
    "    if len(indices_of_file) != 0:\n",
    "        for context in process_indices_for_file(file_number, indices_of_file, CUSTOM_FILTERS_EXCLUDE_NUMERIC, filtered_documents):\n",
    "            processed_context = \" \".join(tokenize(remove_special_character(context)))\n",
    "            if len(processed_context) > length_of_longest_context:\n",
    "                length_of_longest_context = len(processed_context)\n",
    "            potential_contexts.append(processed_context)\n",
    "\n",
    "print(\"Length of longest context:\", length_of_longest_context)\n",
    "print(\"Number of potential_contexts:\", len(potential_contexts))"
   ]
  },
  {
   "cell_type": "code",
   "execution_count": 30,
   "metadata": {
    "pycharm": {
     "is_executing": false,
     "name": "#%%\n"
    }
   },
   "outputs": [
    {
     "name": "stdout",
     "output_type": "stream",
     "text": [
      "CPU times: user 12.5 ms, sys: 0 ns, total: 12.5 ms\n",
      "Wall time: 11.8 ms\n"
     ]
    }
   ],
   "source": [
    "%%time\n",
    "def doit():\n",
    "    print_counter = 0\n",
    "    overall_processed_indices_count = 0\n",
    "    refined_potential_contexts = []\n",
    "    for file_number, indices_of_file in enumerate(indices):\n",
    "        if len(indices_of_file) != 0:\n",
    "            matches = process_indices_for_file(file_number, indices_of_file, CUSTOM_FILTERS, filtered_documents)\n",
    "            processed_indices_of_file = []\n",
    "            indices_of_file = sorted(indices_of_file)\n",
    "            # adjust indices\n",
    "            for i in range(len(indices_of_file)):\n",
    "                if i != 0 and len(processed_indices_of_file) != 0:\n",
    "                    if abs(processed_indices_of_file[-1][0] - indices_of_file[i][0]) > 100 and abs(processed_indices_of_file[-1][1] - indices_of_file[i][1]) > 100:\n",
    "                        processed_indices_of_file.append(indices_of_file[i])\n",
    "                    else:\n",
    "                        min_ = min(indices_of_file[i][0], processed_indices_of_file[-1][0])\n",
    "                        max_ = max(indices_of_file[i][1], processed_indices_of_file[-1][1])\n",
    "                        del processed_indices_of_file[-1]\n",
    "                        processed_indices_of_file.append((min_, max_))\n",
    "                else:\n",
    "                    processed_indices_of_file.append(indices_of_file[i])\n",
    "            overall_processed_indices_count += len(processed_indices_of_file)\n",
    "\n",
    "            for index, match in zip(processed_indices_of_file, matches):\n",
    "                for pattern in POTENTIAL_RISKS:\n",
    "                    if pattern in match:\n",
    "                        windows_size = max(int(len(\" \".join(match))/2), 300)\n",
    "                        if print_counter < 50:\n",
    "                            print_counter += 1\n",
    "                            text = filtered_documents[file_number].body_text\n",
    "                            start_idx = max(0, index[0]-windows_size)\n",
    "                            end_idx = min(len(text), index[1]+windows_size)\n",
    "                            refined_potential_contexts.append(text[start_idx:end_idx])\n",
    "    return overall_processed_indices_count, refined_potential_contexts\n",
    "\n",
    "overall_processed_indices_count, refined_potential_contexts = doit()"
   ]
  },
  {
   "cell_type": "code",
   "execution_count": 31,
   "metadata": {},
   "outputs": [
    {
     "name": "stdout",
     "output_type": "stream",
     "text": [
      "Total number of possible text passages about risk factors: 647\n"
     ]
    }
   ],
   "source": [
    "print(\"Total number of possible text passages about risk factors: {}\".format(overall_processed_indices_count))"
   ]
  },
  {
   "cell_type": "code",
   "execution_count": null,
   "metadata": {},
   "outputs": [],
   "source": []
  },
  {
   "cell_type": "code",
   "execution_count": null,
   "metadata": {},
   "outputs": [],
   "source": []
  },
  {
   "cell_type": "markdown",
   "metadata": {},
   "source": [
    "I tested different models\n",
    "\n",
    "tested models :\n",
    " - SCIBERT = \"allenai/scibert_scivocab_uncased\"\n",
    " - BERT_SQUAD = 'bert-large-uncased-whole-word-masking-finetuned-squad'\n",
    " - OTHER = \"mrm8488/scibert_scivocab-finetuned-CORD19\"\n",
    " - OTHER = \"ktrapeznikov/scibert_scivocab_uncased_squad_v2\"\n",
    " - OTHER = \"ahotrod/roberta_large_squad2\"\n",
    " - model = BertForQuestionAnswering.from_pretrained(OTHER)\n",
    " - tokenizer = BertTokenizer.from_pretrained(OTHER)"
   ]
  },
  {
   "cell_type": "code",
   "execution_count": 32,
   "metadata": {},
   "outputs": [],
   "source": [
    "torch_device = 'cuda' if torch.cuda.is_available() else 'cpu'\n",
    "\n",
    "SCIBERT = \"allenai/scibert_scivocab_uncased\"\n",
    "BERT_SQUAD = 'bert-large-uncased-whole-word-masking-finetuned-squad'\n",
    "#OTHER = \"mrm8488/scibert_scivocab-finetuned-CORD19\"\n",
    "OTHER = \"ktrapeznikov/scibert_scivocab_uncased_squad_v2\"\n",
    "#OTHER = \"ahotrod/roberta_large_squad2\"\n",
    "#model = BertForQuestionAnswering.from_pretrained(OTHER)\n",
    "#tokenizer = BertTokenizer.from_pretrained(OTHER)\n",
    "\n",
    "tokenizer = AutoTokenizer.from_pretrained(OTHER)\n",
    "\n",
    "model = AutoModelForQuestionAnswering.from_pretrained(OTHER)\n",
    "\n",
    "\n",
    "model = model.to(torch_device)\n",
    "model.eval()\n",
    "\n",
    "\n",
    "def answer_question(question, context):\n",
    "    encoded_dict = tokenizer.encode_plus(\n",
    "                        question, context,\n",
    "                        add_special_tokens = True,\n",
    "                        max_length = 256,\n",
    "                        pad_to_max_length = True,\n",
    "                        return_tensors = 'pt'\n",
    "                   )\n",
    "    \n",
    "    input_ids = encoded_dict['input_ids'].to(torch_device)\n",
    "    token_type_ids = encoded_dict['token_type_ids'].to(torch_device)\n",
    "    \n",
    "    start_scores, end_scores = model(input_ids, token_type_ids=token_type_ids)\n",
    "\n",
    "    all_tokens = tokenizer.convert_ids_to_tokens(input_ids[0])\n",
    "    start_index = torch.argmax(start_scores)\n",
    "    end_index = torch.argmax(end_scores)\n",
    "    \n",
    "    answer = tokenizer.convert_tokens_to_string(all_tokens[start_index:end_index+1])\n",
    "    answer = answer.replace('[CLS]', '')\n",
    "    return answer"
   ]
  },
  {
   "cell_type": "code",
   "execution_count": 33,
   "metadata": {},
   "outputs": [],
   "source": [
    "NUM_CONTEXT_FOR_EACH_QUESTION = 10\n",
    "\n",
    "def get_all_context(query, num_results):\n",
    "    # Return ^num_results' papers that better match the query\n",
    "    papers_df = cse.search(query, num_results)\n",
    "    return papers_df['abstract'].str.replace(\"Abstract\", \"\").tolist()\n",
    "\n",
    "\n",
    "def get_all_answers(question, all_contexts):\n",
    "    # Ask the same question to all contexts (all papers)\n",
    "    \n",
    "    all_answers = []\n",
    "    \n",
    "    for context in all_contexts:\n",
    "        all_answers.append(answer_question(question, context))\n",
    "    return all_answers\n",
    "\n",
    "\n",
    "def create_output_results(question, \n",
    "                          all_contexts, \n",
    "                          all_answers, \n",
    "                          summary_answer='', \n",
    "                          summary_context=''):\n",
    "    # Return results in json format\n",
    "    \n",
    "    def find_start_end_index_substring(context, answer):   \n",
    "        search_re = re.search(re.escape(answer.lower()), context.lower())\n",
    "        if search_re:\n",
    "            return search_re.start(), search_re.end()\n",
    "        else:\n",
    "            return 0, len(context)\n",
    "        \n",
    "    output = {}\n",
    "    output['question'] = question\n",
    "    output['summary_answer'] = summary_answer\n",
    "    output['summary_context'] = summary_context\n",
    "    results = []\n",
    "    for c, a in zip(all_contexts, all_answers):\n",
    "\n",
    "        span = {}\n",
    "        span['context'] = c\n",
    "        span['answer'] = a\n",
    "        span['start_index'], span['end_index'] = find_start_end_index_substring(c,a)\n",
    "\n",
    "        results.append(span)\n",
    "    \n",
    "    output['results'] = results\n",
    "        \n",
    "    return output\n",
    "\n",
    "    \n",
    "def get_results(question,\n",
    "                all_contexts,\n",
    "                summarize=False, \n",
    "                num_results=NUM_CONTEXT_FOR_EACH_QUESTION,\n",
    "                verbose=True):    \n",
    "    all_answers = get_all_answers(question, all_contexts)\n",
    "    \n",
    "    if summarize:\n",
    "        # NotImplementedYet\n",
    "        summary_answer = get_summary(all_answers)\n",
    "        summary_context = get_summary(all_contexts)\n",
    "    \n",
    "    return create_output_results(question, \n",
    "                                 all_contexts, \n",
    "                                 all_answers)"
   ]
  },
  {
   "cell_type": "code",
   "execution_count": 34,
   "metadata": {},
   "outputs": [],
   "source": [
    "from IPython.display import display, Markdown, Latex, HTML\n",
    "\n",
    "def layout_style():\n",
    "    style = \"\"\"\n",
    "        div {\n",
    "            color: black;\n",
    "        }\n",
    "        .single_answer {\n",
    "            border-left: 3px solid #dc7b15;\n",
    "            padding-left: 10px;\n",
    "            font-family: Arial;\n",
    "            font-size: 16px;\n",
    "            color: #777777;\n",
    "            margin-left: 5px;\n",
    "\n",
    "        }\n",
    "        .answer{\n",
    "            color: #dc7b15;\n",
    "        }\n",
    "        .question_title {\n",
    "            color: grey;\n",
    "            display: block;\n",
    "            text-transform: none;\n",
    "        }      \n",
    "        div.output_scroll { \n",
    "            height: auto; \n",
    "        }\n",
    "    \"\"\"\n",
    "    return \"<style>\" + style + \"</style>\"\n",
    "\n",
    "def dm(x): display(Markdown(x))\n",
    "def dh(x): display(HTML(layout_style() + x))"
   ]
  },
  {
   "cell_type": "code",
   "execution_count": 35,
   "metadata": {},
   "outputs": [],
   "source": [
    "def display_single_context(context, start_index, end_index):    \n",
    "    before_answer = context[:start_index]\n",
    "    answer = context[start_index:end_index]\n",
    "    after_answer = context[end_index:]\n",
    "\n",
    "    content = before_answer + \"<span class='answer'>\" + answer + \"</span>\" + after_answer\n",
    "\n",
    "    return dh(\"\"\"<div class=\"single_answer\">{}</div>\"\"\".format(content))\n",
    "\n",
    "def display_question_title(question):\n",
    "    return dh(\"<h2 class='question_title'>{}</h2>\".format(question.capitalize()))\n",
    "\n",
    "\n",
    "def display_all_contexts(index, question):\n",
    "    def answer_not_found(context, start_index, end_index):\n",
    "        return (start_index == 0 and len(context) == end_index) or (start_index == 0 and end_index == 0)\n",
    "\n",
    "    display_question_title(str(index + 1) + \". \" + question['question'].capitalize())\n",
    "    \n",
    "    # display context\n",
    "    for i in question['results']:\n",
    "        if answer_not_found(i['context'], i['start_index'], i['end_index']):\n",
    "            continue # skip not found questions\n",
    "        display_single_context(i['context'], i['start_index'], i['end_index'])\n",
    "\n",
    "def display_task_title(index, task):\n",
    "    task_title = \"Task \" + str(index) + \": \" + task\n",
    "    return dh(\"<h1 class='task_title'>{}</h1>\".format(task_title))\n",
    "\n",
    "def display_single_task(index, task):    \n",
    "    display_task_title(index, task['task'])\n",
    "    \n",
    "    for i, question in enumerate(task['questions']):\n",
    "        display_all_contexts(i, question)"
   ]
  },
  {
   "cell_type": "code",
   "execution_count": 36,
   "metadata": {
    "scrolled": false
   },
   "outputs": [
    {
     "name": "stdout",
     "output_type": "stream",
     "text": [
      "Answering questions to task 1 ...\n",
      " answerd\n"
     ]
    },
    {
     "data": {
      "text/html": [
       "<style>\n",
       "        div {\n",
       "            color: black;\n",
       "        }\n",
       "        .single_answer {\n",
       "            border-left: 3px solid #dc7b15;\n",
       "            padding-left: 10px;\n",
       "            font-family: Arial;\n",
       "            font-size: 16px;\n",
       "            color: #777777;\n",
       "            margin-left: 5px;\n",
       "\n",
       "        }\n",
       "        .answer{\n",
       "            color: #dc7b15;\n",
       "        }\n",
       "        .question_title {\n",
       "            color: grey;\n",
       "            display: block;\n",
       "            text-transform: none;\n",
       "        }      \n",
       "        div.output_scroll { \n",
       "            height: auto; \n",
       "        }\n",
       "    </style><h1 class='task_title'>Task 1: What do we know about COVID-19 risk factors?</h1>"
      ],
      "text/plain": [
       "<IPython.core.display.HTML object>"
      ]
     },
     "metadata": {},
     "output_type": "display_data"
    },
    {
     "data": {
      "text/html": [
       "<style>\n",
       "        div {\n",
       "            color: black;\n",
       "        }\n",
       "        .single_answer {\n",
       "            border-left: 3px solid #dc7b15;\n",
       "            padding-left: 10px;\n",
       "            font-family: Arial;\n",
       "            font-size: 16px;\n",
       "            color: #777777;\n",
       "            margin-left: 5px;\n",
       "\n",
       "        }\n",
       "        .answer{\n",
       "            color: #dc7b15;\n",
       "        }\n",
       "        .question_title {\n",
       "            color: grey;\n",
       "            display: block;\n",
       "            text-transform: none;\n",
       "        }      \n",
       "        div.output_scroll { \n",
       "            height: auto; \n",
       "        }\n",
       "    </style><h2 class='question_title'>1. risk factors covid 19</h2>"
      ],
      "text/plain": [
       "<IPython.core.display.HTML object>"
      ]
     },
     "metadata": {},
     "output_type": "display_data"
    },
    {
     "data": {
      "text/html": [
       "<style>\n",
       "        div {\n",
       "            color: black;\n",
       "        }\n",
       "        .single_answer {\n",
       "            border-left: 3px solid #dc7b15;\n",
       "            padding-left: 10px;\n",
       "            font-family: Arial;\n",
       "            font-size: 16px;\n",
       "            color: #777777;\n",
       "            margin-left: 5px;\n",
       "\n",
       "        }\n",
       "        .answer{\n",
       "            color: #dc7b15;\n",
       "        }\n",
       "        .question_title {\n",
       "            color: grey;\n",
       "            display: block;\n",
       "            text-transform: none;\n",
       "        }      \n",
       "        div.output_scroll { \n",
       "            height: auto; \n",
       "        }\n",
       "    </style><h2 class='question_title'>2. risk factors corona</h2>"
      ],
      "text/plain": [
       "<IPython.core.display.HTML object>"
      ]
     },
     "metadata": {},
     "output_type": "display_data"
    },
    {
     "data": {
      "text/html": [
       "<style>\n",
       "        div {\n",
       "            color: black;\n",
       "        }\n",
       "        .single_answer {\n",
       "            border-left: 3px solid #dc7b15;\n",
       "            padding-left: 10px;\n",
       "            font-family: Arial;\n",
       "            font-size: 16px;\n",
       "            color: #777777;\n",
       "            margin-left: 5px;\n",
       "\n",
       "        }\n",
       "        .answer{\n",
       "            color: #dc7b15;\n",
       "        }\n",
       "        .question_title {\n",
       "            color: grey;\n",
       "            display: block;\n",
       "            text-transform: none;\n",
       "        }      \n",
       "        div.output_scroll { \n",
       "            height: auto; \n",
       "        }\n",
       "    </style><div class=\"single_answer\">referent hospitals in spain hospital clinic hospital del mar hospital universitari bellvitge hospital sant pau and hospital vall dhebron located in barcelona and hospital de poniente in almeria province aimed to evaluate the prevalence and risk factors associated with <span class='answer'>strongyloides stercoralis infection particularly related to immunosuppressed patients</span> although systematic screening has not been widely implemented at national level it was established that individuals either hospitalized or be</div>"
      ],
      "text/plain": [
       "<IPython.core.display.HTML object>"
      ]
     },
     "metadata": {},
     "output_type": "display_data"
    },
    {
     "data": {
      "text/html": [
       "<style>\n",
       "        div {\n",
       "            color: black;\n",
       "        }\n",
       "        .single_answer {\n",
       "            border-left: 3px solid #dc7b15;\n",
       "            padding-left: 10px;\n",
       "            font-family: Arial;\n",
       "            font-size: 16px;\n",
       "            color: #777777;\n",
       "            margin-left: 5px;\n",
       "\n",
       "        }\n",
       "        .answer{\n",
       "            color: #dc7b15;\n",
       "        }\n",
       "        .question_title {\n",
       "            color: grey;\n",
       "            display: block;\n",
       "            text-transform: none;\n",
       "        }      \n",
       "        div.output_scroll { \n",
       "            height: auto; \n",
       "        }\n",
       "    </style><h2 class='question_title'>3. what risk factors contribute to the severity of 2019-ncov?</h2>"
      ],
      "text/plain": [
       "<IPython.core.display.HTML object>"
      ]
     },
     "metadata": {},
     "output_type": "display_data"
    },
    {
     "data": {
      "text/html": [
       "<style>\n",
       "        div {\n",
       "            color: black;\n",
       "        }\n",
       "        .single_answer {\n",
       "            border-left: 3px solid #dc7b15;\n",
       "            padding-left: 10px;\n",
       "            font-family: Arial;\n",
       "            font-size: 16px;\n",
       "            color: #777777;\n",
       "            margin-left: 5px;\n",
       "\n",
       "        }\n",
       "        .answer{\n",
       "            color: #dc7b15;\n",
       "        }\n",
       "        .question_title {\n",
       "            color: grey;\n",
       "            display: block;\n",
       "            text-transform: none;\n",
       "        }      \n",
       "        div.output_scroll { \n",
       "            height: auto; \n",
       "        }\n",
       "    </style><div class=\"single_answer\">ry distress syndrome ards multiple organ dysfunction syndrome mods and death so the top priority for clinicians is to identify and treat the severest patients in the early stage the aim of this study was to assess the potential <span class='answer'>highrisk factors of 2019ncov severe pneumonia</span> and provide evidence for the screening of severely afflicted patients ccbyncnd international license it is made available under is the authorfunder who has granted medrxiv license to display the prepri</div>"
      ],
      "text/plain": [
       "<IPython.core.display.HTML object>"
      ]
     },
     "metadata": {},
     "output_type": "display_data"
    },
    {
     "data": {
      "text/html": [
       "<style>\n",
       "        div {\n",
       "            color: black;\n",
       "        }\n",
       "        .single_answer {\n",
       "            border-left: 3px solid #dc7b15;\n",
       "            padding-left: 10px;\n",
       "            font-family: Arial;\n",
       "            font-size: 16px;\n",
       "            color: #777777;\n",
       "            margin-left: 5px;\n",
       "\n",
       "        }\n",
       "        .answer{\n",
       "            color: #dc7b15;\n",
       "        }\n",
       "        .question_title {\n",
       "            color: grey;\n",
       "            display: block;\n",
       "            text-transform: none;\n",
       "        }      \n",
       "        div.output_scroll { \n",
       "            height: auto; \n",
       "        }\n",
       "    </style><div class=\"single_answer\">the copyright holder for this preprint httpsdoiorg1011012020030220029306 doi medrxiv preprint according to the results of the binomial logistics regression analysis we found that <span class='answer'>age</span> and the level of the ddimer were independent risk factors these results suggested that the level of ddimer was significantly positively correlated with the 2019ncov severe pneumonia which was also shown in another study previous studies showed that sarscov could bind to ace2 downregu</div>"
      ],
      "text/plain": [
       "<IPython.core.display.HTML object>"
      ]
     },
     "metadata": {},
     "output_type": "display_data"
    },
    {
     "data": {
      "text/html": [
       "<style>\n",
       "        div {\n",
       "            color: black;\n",
       "        }\n",
       "        .single_answer {\n",
       "            border-left: 3px solid #dc7b15;\n",
       "            padding-left: 10px;\n",
       "            font-family: Arial;\n",
       "            font-size: 16px;\n",
       "            color: #777777;\n",
       "            margin-left: 5px;\n",
       "\n",
       "        }\n",
       "        .answer{\n",
       "            color: #dc7b15;\n",
       "        }\n",
       "        .question_title {\n",
       "            color: grey;\n",
       "            display: block;\n",
       "            text-transform: none;\n",
       "        }      \n",
       "        div.output_scroll { \n",
       "            height: auto; \n",
       "        }\n",
       "    </style><div class=\"single_answer\">iratory distress syndrome ards multiple organ dysfunction syndrome mods and death so the top priority for clinicians is to identify and treat the severest patients in the early stage the aim of this study was to assess the potential <span class='answer'>highrisk factors of 2019ncov severe pneumonia</span> and provide evidence for the screening of severely afflicted patients ccbyncnd international license it is made available under is the authorfunder who has granted medrxiv license to display the</div>"
      ],
      "text/plain": [
       "<IPython.core.display.HTML object>"
      ]
     },
     "metadata": {},
     "output_type": "display_data"
    },
    {
     "name": "stdout",
     "output_type": "stream",
     "text": [
      "CPU times: user 1.15 s, sys: 8.5 ms, total: 1.16 s\n",
      "Wall time: 664 ms\n"
     ]
    }
   ],
   "source": [
    "%%time\n",
    "all_tasks = []\n",
    "\n",
    "all_contexts = potential_contexts[:10]\n",
    "\n",
    "for i, t in enumerate(covid_kaggle_questions['data']):\n",
    "    print(\"Answering questions to task {} ...\".format(i+1))\n",
    "    answers_to_question = []\n",
    "    for q in t['questions']:\n",
    "        res = get_results(q, all_contexts, verbose=False)\n",
    "        answers_to_question.append(res)\n",
    "    task = {}\n",
    "    task['task'] = t['task']\n",
    "    task['questions'] = answers_to_question\n",
    "    \n",
    "    all_tasks.append(task)\n",
    "    print(\" answerd\")\n",
    "\n",
    "all_answers = {}\n",
    "all_answers['data'] = all_tasks\n",
    "\n",
    "task = 1\n",
    "display_single_task(task, all_tasks[task-1])"
   ]
  },
  {
   "cell_type": "code",
   "execution_count": 47,
   "metadata": {},
   "outputs": [
    {
     "name": "stdout",
     "output_type": "stream",
     "text": [
      "Answering questions to task 1 ...\n",
      " answerd\n"
     ]
    },
    {
     "data": {
      "text/html": [
       "<style>\n",
       "        div {\n",
       "            color: black;\n",
       "        }\n",
       "        .single_answer {\n",
       "            border-left: 3px solid #dc7b15;\n",
       "            padding-left: 10px;\n",
       "            font-family: Arial;\n",
       "            font-size: 16px;\n",
       "            color: #777777;\n",
       "            margin-left: 5px;\n",
       "\n",
       "        }\n",
       "        .answer{\n",
       "            color: #dc7b15;\n",
       "        }\n",
       "        .question_title {\n",
       "            color: grey;\n",
       "            display: block;\n",
       "            text-transform: none;\n",
       "        }      \n",
       "        div.output_scroll { \n",
       "            height: auto; \n",
       "        }\n",
       "    </style><h1 class='task_title'>Task 1: What do we know about COVID-19 risk factors?</h1>"
      ],
      "text/plain": [
       "<IPython.core.display.HTML object>"
      ]
     },
     "metadata": {},
     "output_type": "display_data"
    },
    {
     "data": {
      "text/html": [
       "<style>\n",
       "        div {\n",
       "            color: black;\n",
       "        }\n",
       "        .single_answer {\n",
       "            border-left: 3px solid #dc7b15;\n",
       "            padding-left: 10px;\n",
       "            font-family: Arial;\n",
       "            font-size: 16px;\n",
       "            color: #777777;\n",
       "            margin-left: 5px;\n",
       "\n",
       "        }\n",
       "        .answer{\n",
       "            color: #dc7b15;\n",
       "        }\n",
       "        .question_title {\n",
       "            color: grey;\n",
       "            display: block;\n",
       "            text-transform: none;\n",
       "        }      \n",
       "        div.output_scroll { \n",
       "            height: auto; \n",
       "        }\n",
       "    </style><h2 class='question_title'>1. risk factors covid 19</h2>"
      ],
      "text/plain": [
       "<IPython.core.display.HTML object>"
      ]
     },
     "metadata": {},
     "output_type": "display_data"
    },
    {
     "data": {
      "text/html": [
       "<style>\n",
       "        div {\n",
       "            color: black;\n",
       "        }\n",
       "        .single_answer {\n",
       "            border-left: 3px solid #dc7b15;\n",
       "            padding-left: 10px;\n",
       "            font-family: Arial;\n",
       "            font-size: 16px;\n",
       "            color: #777777;\n",
       "            margin-left: 5px;\n",
       "\n",
       "        }\n",
       "        .answer{\n",
       "            color: #dc7b15;\n",
       "        }\n",
       "        .question_title {\n",
       "            color: grey;\n",
       "            display: block;\n",
       "            text-transform: none;\n",
       "        }      \n",
       "        div.output_scroll { \n",
       "            height: auto; \n",
       "        }\n",
       "    </style><div class=\"single_answer\">ed patients. The age distribution of patients in the whole province or each region all roughly follows normal distribution ( Fig.2 D, E). Patients aged between 21 and 60 years old take up more than 81% (938 out of 1156). The main reason may be that <span class='answer'>people aged between 21 and 60 years old</span> are the social main labor forces, there are many migrant workers in this age interval. Moreover, they may have wider social circles than the others. Therefore, people aged between 21 and 60 years old are key crowd with high risks of COVID-19. Traditionally, incubation period is defined as the period between the infection of an individual by a pathogen and the manifestation of the illness or disease it causes [32, 33] . Different infectious diseases have different incubation periods. However, for a certain infectious disease, its incubation period is relatively fixed. Since the number of pathogens entering the body, virulence and reproductive capacity, as well as power of resistance are different for different people, thus, it </div>"
      ],
      "text/plain": [
       "<IPython.core.display.HTML object>"
      ]
     },
     "metadata": {},
     "output_type": "display_data"
    },
    {
     "data": {
      "text/html": [
       "<style>\n",
       "        div {\n",
       "            color: black;\n",
       "        }\n",
       "        .single_answer {\n",
       "            border-left: 3px solid #dc7b15;\n",
       "            padding-left: 10px;\n",
       "            font-family: Arial;\n",
       "            font-size: 16px;\n",
       "            color: #777777;\n",
       "            margin-left: 5px;\n",
       "\n",
       "        }\n",
       "        .answer{\n",
       "            color: #dc7b15;\n",
       "        }\n",
       "        .question_title {\n",
       "            color: grey;\n",
       "            display: block;\n",
       "            text-transform: none;\n",
       "        }      \n",
       "        div.output_scroll { \n",
       "            height: auto; \n",
       "        }\n",
       "    </style><div class=\"single_answer\">ed patients. The age distribution of patients in the whole province or each region all roughly follows normal distribution ( Fig.2 D, E). Patients aged between 21 and 60 years old take up more than 81% (938 out of 1156). The main reason may be that <span class='answer'>people aged between 21 and 60 years old</span> are the social main labor forces, there are many migrant workers in this age interval. Moreover, they may have wider social circles than the others. Therefore, people aged between 21 and 60 years old are key crowd with high risks of COVID-19. Traditionally, incubation period is defined as the period between the infection of an individual by a pathogen and the manifestation of the illness or disease it causes [32, 33] . Different infectious diseases have different incubation periods. However, for a certain infectious disease, its incubation period is relatively fixed. Since the number of pathogens entering the body, virulence and reproductive capacity, as well as power of resistance are different for different people, thus, it </div>"
      ],
      "text/plain": [
       "<IPython.core.display.HTML object>"
      ]
     },
     "metadata": {},
     "output_type": "display_data"
    },
    {
     "data": {
      "text/html": [
       "<style>\n",
       "        div {\n",
       "            color: black;\n",
       "        }\n",
       "        .single_answer {\n",
       "            border-left: 3px solid #dc7b15;\n",
       "            padding-left: 10px;\n",
       "            font-family: Arial;\n",
       "            font-size: 16px;\n",
       "            color: #777777;\n",
       "            margin-left: 5px;\n",
       "\n",
       "        }\n",
       "        .answer{\n",
       "            color: #dc7b15;\n",
       "        }\n",
       "        .question_title {\n",
       "            color: grey;\n",
       "            display: block;\n",
       "            text-transform: none;\n",
       "        }      \n",
       "        div.output_scroll { \n",
       "            height: auto; \n",
       "        }\n",
       "    </style><div class=\"single_answer\">stically holds (F = 212.31, p < 0.0001, R 2 = 0.9299). However, though there are certain correlation between Y and X 2 − X 4 , their strength of correlations are all lower than . CC-BY-NC-ND 4.0 International license It is made available under a author/funder, who has granted medRxiv a license to display the preprint in perpetuity. is the (which was not peer-reviewed) The copyright holder for this preprint that between Y and X 1 (Fig.4 D-G) . This indicates that <span class='answer'>persons with Wuhan travel histories</span> have high risks of infection with COVID-19, and regions with more such persons tend to encompass more patients infected with COVID-19. From the 1212 patients, we constructed a heterogeneous network and performed some analysis on such network (Fig.5 ). The network contains 1105 patients that have been treated in 248 hospitals, 123 interhospital transfer relationships that involved 206 patients, and 208 patients that were clustering infected. Nodes in the network include patients and hospitals. Edges among patients rep</div>"
      ],
      "text/plain": [
       "<IPython.core.display.HTML object>"
      ]
     },
     "metadata": {},
     "output_type": "display_data"
    },
    {
     "data": {
      "text/html": [
       "<style>\n",
       "        div {\n",
       "            color: black;\n",
       "        }\n",
       "        .single_answer {\n",
       "            border-left: 3px solid #dc7b15;\n",
       "            padding-left: 10px;\n",
       "            font-family: Arial;\n",
       "            font-size: 16px;\n",
       "            color: #777777;\n",
       "            margin-left: 5px;\n",
       "\n",
       "        }\n",
       "        .answer{\n",
       "            color: #dc7b15;\n",
       "        }\n",
       "        .question_title {\n",
       "            color: grey;\n",
       "            display: block;\n",
       "            text-transform: none;\n",
       "        }      \n",
       "        div.output_scroll { \n",
       "            height: auto; \n",
       "        }\n",
       "    </style><div class=\"single_answer\">atient 3, patient 13 and patient 14). (Fig.1) All rights reserved. No reuse allowed without permission. author/funder, who has granted medRxiv a license to display the preprint in perpetuity. The copyright holder for this preprint (which was not peer-reviewed) is the . https://doi.org/10.1101/2020.02. 19.20025239 doi: medRxiv preprint In this study, we reported 25 death cases of with COVID-19. The clinical characters of these patients indicated that the <span class='answer'>age and underlying diseases</span> were the most important risk factors for death. As concerning the underlying diseases, the most common one was hypertension, followed by diabetes, Heart disease, kidney disease, cerebral infarction, COPD, malignant tumors and acute pancreatitis. The SARS-CoV-2 has been identified as one of a class of single-stranded enveloped 39 RNA viruses, belonging to the beta-coronaviruses genus of the Coronaviridae family (1). The analysis showed that both SARS-CoV-2 and the SARS-CoV shared a common ancestor that resembles the bat coronavirus HKU9-1 (</div>"
      ],
      "text/plain": [
       "<IPython.core.display.HTML object>"
      ]
     },
     "metadata": {},
     "output_type": "display_data"
    },
    {
     "data": {
      "text/html": [
       "<style>\n",
       "        div {\n",
       "            color: black;\n",
       "        }\n",
       "        .single_answer {\n",
       "            border-left: 3px solid #dc7b15;\n",
       "            padding-left: 10px;\n",
       "            font-family: Arial;\n",
       "            font-size: 16px;\n",
       "            color: #777777;\n",
       "            margin-left: 5px;\n",
       "\n",
       "        }\n",
       "        .answer{\n",
       "            color: #dc7b15;\n",
       "        }\n",
       "        .question_title {\n",
       "            color: grey;\n",
       "            display: block;\n",
       "            text-transform: none;\n",
       "        }      \n",
       "        div.output_scroll { \n",
       "            height: auto; \n",
       "        }\n",
       "    </style><div class=\"single_answer\">atient 3, patient 13 and patient 14). (Fig.1) All rights reserved. No reuse allowed without permission. author/funder, who has granted medRxiv a license to display the preprint in perpetuity. The copyright holder for this preprint (which was not peer-reviewed) is the . https://doi.org/10.1101/2020.02. 19.20025239 doi: medRxiv preprint In this study, we reported 25 death cases of with COVID-19. The clinical characters of these patients indicated that the <span class='answer'>age and underlying diseases</span> were the most important risk factors for death. As concerning the underlying diseases, the most common one was hypertension, followed by diabetes, Heart disease, kidney disease, cerebral infarction, COPD, malignant tumors and acute pancreatitis. The SARS-CoV-2 has been identified as one of a class of single-stranded enveloped 39 RNA viruses, belonging to the beta-coronaviruses genus of the Coronaviridae family (1). The analysis showed that both SARS-CoV-2 and the SARS-CoV shared a common ancestor that resembles the bat coronavirus HKU9-1 (</div>"
      ],
      "text/plain": [
       "<IPython.core.display.HTML object>"
      ]
     },
     "metadata": {},
     "output_type": "display_data"
    },
    {
     "data": {
      "text/html": [
       "<style>\n",
       "        div {\n",
       "            color: black;\n",
       "        }\n",
       "        .single_answer {\n",
       "            border-left: 3px solid #dc7b15;\n",
       "            padding-left: 10px;\n",
       "            font-family: Arial;\n",
       "            font-size: 16px;\n",
       "            color: #777777;\n",
       "            margin-left: 5px;\n",
       "\n",
       "        }\n",
       "        .answer{\n",
       "            color: #dc7b15;\n",
       "        }\n",
       "        .question_title {\n",
       "            color: grey;\n",
       "            display: block;\n",
       "            text-transform: none;\n",
       "        }      \n",
       "        div.output_scroll { \n",
       "            height: auto; \n",
       "        }\n",
       "    </style><h2 class='question_title'>2. risk factors corona</h2>"
      ],
      "text/plain": [
       "<IPython.core.display.HTML object>"
      ]
     },
     "metadata": {},
     "output_type": "display_data"
    },
    {
     "data": {
      "text/html": [
       "<style>\n",
       "        div {\n",
       "            color: black;\n",
       "        }\n",
       "        .single_answer {\n",
       "            border-left: 3px solid #dc7b15;\n",
       "            padding-left: 10px;\n",
       "            font-family: Arial;\n",
       "            font-size: 16px;\n",
       "            color: #777777;\n",
       "            margin-left: 5px;\n",
       "\n",
       "        }\n",
       "        .answer{\n",
       "            color: #dc7b15;\n",
       "        }\n",
       "        .question_title {\n",
       "            color: grey;\n",
       "            display: block;\n",
       "            text-transform: none;\n",
       "        }      \n",
       "        div.output_scroll { \n",
       "            height: auto; \n",
       "        }\n",
       "    </style><div class=\"single_answer\">stimate based on prior research (16, 17) ). We developed open-source software, including a freely-available web application at http://iddynamics.jhsph. edu/apps/shiny/activemonitr/. The source code for the web app, the data for the analyses, and the code The copyright holder for this preprint (which was not peer-reviewed) is the author/funder. It . https://doi.org/10.1101/156497 doi: bioRxiv preprint CDC issued recommendations on risk stratification of individuals for a potential <span class='answer'>Ebola virus exposure</span> (\"high risk\", \"some risk\", \"low (but not zero) risk\", \"no identifiable risk\") and for how long and how intensively individuals in each of these categories should be monitored. (20) DOHMH's active monitoring program, described previously (21) , was implemented consistent with CDC recommendations. However, creating, evaluating, and modifying such classifications in practice is a difficult task and requires situational awareness and data that would vary depending on the pathogen and outbreak setting. For the CDC Ebol</div>"
      ],
      "text/plain": [
       "<IPython.core.display.HTML object>"
      ]
     },
     "metadata": {},
     "output_type": "display_data"
    },
    {
     "data": {
      "text/html": [
       "<style>\n",
       "        div {\n",
       "            color: black;\n",
       "        }\n",
       "        .single_answer {\n",
       "            border-left: 3px solid #dc7b15;\n",
       "            padding-left: 10px;\n",
       "            font-family: Arial;\n",
       "            font-size: 16px;\n",
       "            color: #777777;\n",
       "            margin-left: 5px;\n",
       "\n",
       "        }\n",
       "        .answer{\n",
       "            color: #dc7b15;\n",
       "        }\n",
       "        .question_title {\n",
       "            color: grey;\n",
       "            display: block;\n",
       "            text-transform: none;\n",
       "        }      \n",
       "        div.output_scroll { \n",
       "            height: auto; \n",
       "        }\n",
       "    </style><h2 class='question_title'>3. what risk factors contribute to the severity of 2019-ncov?</h2>"
      ],
      "text/plain": [
       "<IPython.core.display.HTML object>"
      ]
     },
     "metadata": {},
     "output_type": "display_data"
    },
    {
     "name": "stdout",
     "output_type": "stream",
     "text": [
      "CPU times: user 3.1 s, sys: 12.7 ms, total: 3.11 s\n",
      "Wall time: 3.11 s\n"
     ]
    }
   ],
   "source": [
    "%%time\n",
    "all_tasks = []\n",
    "\n",
    "all_contexts = refined_potential_contexts[:1000]\n",
    "\n",
    "for i, t in enumerate(covid_kaggle_questions['data']):\n",
    "    print(\"Answering questions to task {} ...\".format(i+1))\n",
    "    answers_to_question = []\n",
    "    for q in t['questions']:\n",
    "        res = get_results(q, all_contexts, verbose=False)\n",
    "        answers_to_question.append(res)\n",
    "    task = {}\n",
    "    task['task'] = t['task']\n",
    "    task['questions'] = answers_to_question\n",
    "    \n",
    "    all_tasks.append(task)\n",
    "    print(\" answerd\")\n",
    "\n",
    "all_answers = {}\n",
    "all_answers['data'] = all_tasks\n",
    "\n",
    "task = 1\n",
    "display_single_task(task, all_tasks[task-1])"
   ]
  },
  {
   "cell_type": "markdown",
   "metadata": {},
   "source": [
    "## Summarization "
   ]
  },
  {
   "cell_type": "markdown",
   "metadata": {},
   "source": [
    "I tried to use another language model to summarize the concatenation of some contexts, but the results were very poor. I think it relates to the fact that summarization of those kind of texts is hard in general and to do summarization on concatenated text passages, from different texts makes this even harder."
   ]
  },
  {
   "cell_type": "code",
   "execution_count": 172,
   "metadata": {},
   "outputs": [],
   "source": [
    "from transformers import BartTokenizer, BartForConditionalGeneration, AutoModelWithLMHead\n",
    "\n",
    "#text = documents[0].body_text\n",
    "text = \" \".join(potential_contexts)\n",
    "\n",
    "model_used = \"bart-large-cnn\"\n",
    "\n",
    "tokenizer_summarize = BartTokenizer.from_pretrained(model_used)\n",
    "model_summarize = BartForConditionalGeneration \\\n",
    "        .from_pretrained(model_used).to(torch_device)\n",
    "\n",
    "\n",
    "model_summarize.to(torch_device)\n",
    "_ = model_summarize.eval()\n"
   ]
  },
  {
   "cell_type": "code",
   "execution_count": 173,
   "metadata": {},
   "outputs": [],
   "source": [
    "out = tokenizer_summarize.batch_encode_plus(\n",
    "    [text], return_tensors='pt', max_length=1024\n",
    ")\n",
    "input_ids = out['input_ids']\n",
    "attention_mask = out['attention_mask']\n",
    "\n",
    "input_ids = input_ids.to(torch_device)\n",
    "attention_mask = answers_input_ids.to(torch_device)"
   ]
  },
  {
   "cell_type": "code",
   "execution_count": 174,
   "metadata": {},
   "outputs": [
    {
     "data": {
      "text/plain": [
       "'referent hospitals in spain hospital clinic hospital del mar hospital universitari bellvitge hospital sant pau and hospital vall dhebron located in barcelona and hospital de poniente in almeria province aimed to evaluate the prevalence and risk factors associated with strongyloides stercoralis infection particularly related to immunosuppressed patients although systematic screening has not been widely implemented at national level it was established that individuals either hospitalized or be ual'"
      ]
     },
     "execution_count": 174,
     "metadata": {},
     "output_type": "execute_result"
    }
   ],
   "source": [
    "text[:500]"
   ]
  },
  {
   "cell_type": "code",
   "execution_count": 178,
   "metadata": {},
   "outputs": [
    {
     "name": "stdout",
     "output_type": "stream",
     "text": [
      "0: Strongyloides stercoralis infection particularly related to immunosuppressed patients although systematic screening has not been widely implemented at national level it was established that individuals either hospitalized or be uals seems to be lower but these are limited data. High prevalence found in our study supports the need of screening strategies in patients that are potentially immuno-sick.\n"
     ]
    }
   ],
   "source": [
    "beam_outputs = model_summarize.generate(input_ids,\n",
    "                                       attention_mask=attention_mask,\n",
    "                                       num_beams=10,\n",
    "                                       max_length=500,\n",
    "                                       early_stopping=True,\n",
    "                                       no_repeat_ngram_size=2,\n",
    "                                      )\n",
    "\n",
    "for i, beam_output in enumerate(beam_outputs):\n",
    "    summary = tokenizer_summarize.decode(beam_output,\n",
    "                                         skip_special_tokens=True,\n",
    "                                         clean_up_tokenization_spaces=True)\n",
    "    print(\"{}: {}\".format(i, summary.replace(u'\\xa0', u' ')))"
   ]
  },
  {
   "cell_type": "markdown",
   "metadata": {},
   "source": [
    "Some resources used:\n",
    "\n",
    "    - https://huggingface.co/blog/how-to-generate\n",
    "    - https://www.kaggle.com/jonathanbesomi/a-qa-model-to-answer-them-all#9.-Export-solutions"
   ]
  },
  {
   "cell_type": "code",
   "execution_count": null,
   "metadata": {},
   "outputs": [],
   "source": []
  }
 ],
 "metadata": {
  "kernelspec": {
   "display_name": "Python 3",
   "language": "python",
   "name": "python3"
  },
  "language_info": {
   "codemirror_mode": {
    "name": "ipython",
    "version": 3
   },
   "file_extension": ".py",
   "mimetype": "text/x-python",
   "name": "python",
   "nbconvert_exporter": "python",
   "pygments_lexer": "ipython3",
   "version": "3.7.7"
  },
  "pycharm": {
   "stem_cell": {
    "cell_type": "raw",
    "metadata": {
     "collapsed": false
    },
    "source": []
   }
  }
 },
 "nbformat": 4,
 "nbformat_minor": 4
}
